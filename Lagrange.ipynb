{
  "nbformat": 4,
  "nbformat_minor": 0,
  "metadata": {
    "kernelspec": {
      "display_name": "Python 3",
      "language": "python",
      "name": "python3"
    },
    "language_info": {
      "codemirror_mode": {
        "name": "ipython",
        "version": 3
      },
      "file_extension": ".py",
      "mimetype": "text/x-python",
      "name": "python",
      "nbconvert_exporter": "python",
      "pygments_lexer": "ipython3",
      "version": "3.7.4"
    },
    "colab": {
      "name": "Lagrange.ipynb",
      "provenance": []
    }
  },
  "cells": [
    {
      "cell_type": "code",
      "metadata": {
        "id": "tH2SYGGoIUWe"
      },
      "source": [
        "from numpy import linspace, array, dot, append, absolute\n",
        "import matplotlib.pyplot as plt\n",
        "import math"
      ],
      "execution_count": null,
      "outputs": []
    },
    {
      "cell_type": "code",
      "metadata": {
        "id": "lZnuIwADIUWz"
      },
      "source": [
        "def fx (x):\n",
        "    return math.atan(x)"
      ],
      "execution_count": null,
      "outputs": []
    },
    {
      "cell_type": "code",
      "metadata": {
        "id": "3OfqKz8jIUW1"
      },
      "source": [
        "x = [-2, -1, -0.5, 0, 0.3, 0.7, 1, 1.5, 2, 3]\n",
        "y = []"
      ],
      "execution_count": null,
      "outputs": []
    },
    {
      "cell_type": "code",
      "metadata": {
        "id": "HM7DhD1AIUW3",
        "outputId": "c692aef1-d08a-47fc-ea3e-a7a6d7f32f5d"
      },
      "source": [
        "n = len(x)\n",
        "for i in range(n):\n",
        "    r=fx(x[i])\n",
        "    y.append(r)\n",
        "y=array(y)\n",
        "y"
      ],
      "execution_count": null,
      "outputs": [
        {
          "output_type": "execute_result",
          "data": {
            "text/plain": [
              "array([-1.10714872, -0.78539816, -0.46364761,  0.        ,  0.29145679,\n",
              "        0.61072596,  0.78539816,  0.98279372,  1.10714872,  1.24904577])"
            ]
          },
          "metadata": {
            "tags": []
          },
          "execution_count": 59
        }
      ]
    },
    {
      "cell_type": "code",
      "metadata": {
        "id": "HKnJaZE7IUW6"
      },
      "source": [
        "def lagrange_i(x, i, xm):\n",
        "    n = len(xm)\n",
        "    y = 1 \n",
        "    for j in range(n):\n",
        "        if i != j:\n",
        "            y *= (x - xm[j]) / (xm[i] - xm[j])\n",
        "    return y"
      ],
      "execution_count": null,
      "outputs": []
    },
    {
      "cell_type": "code",
      "metadata": {
        "id": "kZX40R1JIUW7"
      },
      "source": [
        "def lagrange(x, xm, ym):\n",
        "    n = len(xm)\n",
        "    lagrpoly = array([ lagrange_i(x ,i , xm ) for i in range(n)])\n",
        "    k = dot(ym, lagrpoly)\n",
        "    return k"
      ],
      "execution_count": null,
      "outputs": []
    },
    {
      "cell_type": "code",
      "metadata": {
        "id": "_p5aojfBIUW8",
        "outputId": "543ff2f9-6808-4074-fa09-a5be6017be3a"
      },
      "source": [
        "Px=[]\n",
        "for i in range(n):\n",
        "    f = lagrange(x[i], x, y)\n",
        "    Px.append(f)\n",
        "Px"
      ],
      "execution_count": null,
      "outputs": [
        {
          "output_type": "execute_result",
          "data": {
            "text/plain": [
              "[-1.1071487177940904,\n",
              " -0.7853981633974483,\n",
              " -0.4636476090008061,\n",
              " 0.0,\n",
              " 0.2914567944778671,\n",
              " 0.6107259643892086,\n",
              " 0.7853981633974483,\n",
              " 0.982793723247329,\n",
              " 1.1071487177940904,\n",
              " 1.2490457723982544]"
            ]
          },
          "metadata": {
            "tags": []
          },
          "execution_count": 73
        }
      ]
    },
    {
      "cell_type": "markdown",
      "metadata": {
        "id": "l2aKgnbRIUW-"
      },
      "source": [
        "Calculate the approximation error of f by P at the points x = 0.3, x = 0.9, x = 2.8;"
      ]
    },
    {
      "cell_type": "code",
      "metadata": {
        "id": "gk4yXhxaIUW_"
      },
      "source": [
        "b = [0.3, 0.9, 2.8]\n",
        "def error(b1):\n",
        "    e = absolute(fx(b1)-lagrange (b1, x, y))\n",
        "    return e\n"
      ],
      "execution_count": null,
      "outputs": []
    },
    {
      "cell_type": "code",
      "metadata": {
        "id": "IdG2iSQoIUXA",
        "outputId": "282c1f33-dfcd-40e3-c51b-6916050646f0"
      },
      "source": [
        "for i in range(len(b)):\n",
        "    j=b[i]\n",
        "    print(error(j))"
      ],
      "execution_count": null,
      "outputs": [
        {
          "output_type": "stream",
          "text": [
            "0.0\n",
            "1.694063291757253e-06\n",
            "0.12597672619034994\n"
          ],
          "name": "stdout"
        }
      ]
    },
    {
      "cell_type": "markdown",
      "metadata": {
        "id": "YUp0zsFHIUXB"
      },
      "source": [
        "c. Plot the interpolation nodes with red asterisks, the graph of f(x) and P(x) for x ∈ [−2, 3]\n",
        "on the same graphical window;"
      ]
    },
    {
      "cell_type": "code",
      "metadata": {
        "id": "p3FSWSgmIUXC",
        "outputId": "8a44d196-c625-46bc-a0ef-e3f187aa3422"
      },
      "source": [
        "plt.plot(x, y, 'go')\n",
        "plt.plot(x[i]<3, 'ro')\n",
        "\n",
        "plt.plot(x, Px)\n"
      ],
      "execution_count": null,
      "outputs": [
        {
          "output_type": "execute_result",
          "data": {
            "text/plain": [
              "[<matplotlib.lines.Line2D at 0x16a33ca0948>]"
            ]
          },
          "metadata": {
            "tags": []
          },
          "execution_count": 46
        },
        {
          "output_type": "display_data",
          "data": {
            "image/png": "[encoded data removed]",
            "text/plain": [
              "<Figure size 432x288 with 1 Axes>"
            ]
          },
          "metadata": {
            "tags": [],
            "needs_background": "light"
          }
        }
      ]
    },
    {
      "cell_type": "code",
      "metadata": {
        "id": "1BnjU6ulIUXD"
      },
      "source": [
        "m=len(y)\n",
        "ef=[]\n",
        "for i in range(m):\n",
        "    e = absolute(lagrange(x[i], x, y)-y[i]) \n",
        "    ef.append(e)\n",
        "\n",
        "    \n"
      ],
      "execution_count": null,
      "outputs": []
    }
  ]
}