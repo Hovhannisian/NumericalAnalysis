{
  "nbformat": 4,
  "nbformat_minor": 0,
  "metadata": {
    "kernelspec": {
      "display_name": "Python 3",
      "language": "python",
      "name": "python3"
    },
    "language_info": {
      "codemirror_mode": {
        "name": "ipython",
        "version": 3
      },
      "file_extension": ".py",
      "mimetype": "text/x-python",
      "name": "python",
      "nbconvert_exporter": "python",
      "pygments_lexer": "ipython3",
      "version": "3.7.4"
    },
    "colab": {
      "name": "Newton, FPI, Epsilion.ipynb",
      "provenance": []
    }
  },
  "cells": [
    {
      "cell_type": "code",
      "metadata": {
        "id": "LHZSw-4uHsGe"
      },
      "source": [
        "import math"
      ],
      "execution_count": null,
      "outputs": []
    },
    {
      "cell_type": "code",
      "metadata": {
        "id": "YWlkkUq4HsGg"
      },
      "source": [
        "#calcualte sqrt5 using Newton\n",
        "def f(x):\n",
        "    return (x**3)-5*x\n",
        "\n",
        "#derivative function\n",
        "def df(x):\n",
        "    return 3 * (x **2) -5"
      ],
      "execution_count": null,
      "outputs": []
    },
    {
      "cell_type": "code",
      "metadata": {
        "id": "XDPFMWdrHsGg"
      },
      "source": [
        "x0 = 2\n",
        "for k in (0, 15):\n",
        "    x0 = x0 - (f(x0)/ df(x0))"
      ],
      "execution_count": null,
      "outputs": []
    },
    {
      "cell_type": "code",
      "metadata": {
        "id": "dszyBQ7_HsGh",
        "outputId": "1e3dd7f2-69d6-4798-be04-c7ba5c3740e0"
      },
      "source": [
        "x0"
      ],
      "execution_count": null,
      "outputs": [
        {
          "output_type": "execute_result",
          "data": {
            "text/plain": [
              "2.2376399890740233"
            ]
          },
          "metadata": {
            "tags": []
          },
          "execution_count": 17
        }
      ]
    },
    {
      "cell_type": "code",
      "metadata": {
        "id": "nyZbsWNvHsGj"
      },
      "source": [
        "#calculate x1 with the epsilion and FPI method\n",
        "def g(x):\n",
        "    return (4*x)-(math.sin((x**2) + 1))"
      ],
      "execution_count": null,
      "outputs": []
    },
    {
      "cell_type": "code",
      "metadata": {
        "id": "Zq6z-J6sHsGj"
      },
      "source": [
        "x1 = 0\n",
        "epsilion = 10**(-5)\n",
        "a= -1\n",
        "b= 1"
      ],
      "execution_count": null,
      "outputs": []
    },
    {
      "cell_type": "code",
      "metadata": {
        "id": "DCKZFUMSHsGk",
        "outputId": "efe236ed-10e5-41f1-a351-245e581982af"
      },
      "source": [
        "g(x1)"
      ],
      "execution_count": null,
      "outputs": [
        {
          "output_type": "execute_result",
          "data": {
            "text/plain": [
              "-0.8414709848078965"
            ]
          },
          "metadata": {
            "tags": []
          },
          "execution_count": 5
        }
      ]
    },
    {
      "cell_type": "code",
      "metadata": {
        "id": "0ZEChqyjHsGk"
      },
      "source": [
        "while math.fabs(x1-g(x1)) <= epsilion:\n",
        "    x1 = g(x1)"
      ],
      "execution_count": null,
      "outputs": []
    }
  ]
}