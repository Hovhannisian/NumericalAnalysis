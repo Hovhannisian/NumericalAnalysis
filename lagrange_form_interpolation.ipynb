{
  "nbformat": 4,
  "nbformat_minor": 0,
  "metadata": {
    "kernelspec": {
      "display_name": "Python 3",
      "language": "python",
      "name": "python3"
    },
    "language_info": {
      "codemirror_mode": {
        "name": "ipython",
        "version": 3
      },
      "file_extension": ".py",
      "mimetype": "text/x-python",
      "name": "python",
      "nbconvert_exporter": "python",
      "pygments_lexer": "ipython3",
      "version": "3.7.4"
    },
    "colab": {
      "name": "lagrange_form_interpolation.ipynb",
      "provenance": []
    }
  },
  "cells": [
    {
      "cell_type": "code",
      "metadata": {
        "id": "TgJQ2hQbJWgY"
      },
      "source": [
        "from numpy import linspace, array, dot\n",
        "import matplotlib.pyplot as plt"
      ],
      "execution_count": null,
      "outputs": []
    },
    {
      "cell_type": "code",
      "metadata": {
        "id": "j0hUE57-JWgn"
      },
      "source": [
        "x = [2010, 2012, 2014, 2016, 2018, 2020] #years\n",
        "y = [14.7, 17.6, 17.3, 19.7, 19.6, 22] #sales"
      ],
      "execution_count": null,
      "outputs": []
    },
    {
      "cell_type": "code",
      "metadata": {
        "id": "EQz6Aos_JWgo",
        "outputId": "ae275a98-693f-4c92-ce1b-787e58a275fb"
      },
      "source": [
        "plt.plot(x, y, 'o')"
      ],
      "execution_count": null,
      "outputs": [
        {
          "output_type": "execute_result",
          "data": {
            "text/plain": [
              "[<matplotlib.lines.Line2D at 0x244d41f3b48>]"
            ]
          },
          "metadata": {
            "tags": []
          },
          "execution_count": 6
        },
        {
          "output_type": "display_data",
          "data": {
            "image/png": "[encoded data removed]",
            "text/plain": [
              "<Figure size 432x288 with 1 Axes>"
            ]
          },
          "metadata": {
            "tags": [],
            "needs_background": "light"
          }
        }
      ]
    },
    {
      "cell_type": "code",
      "metadata": {
        "id": "wsaTI0sHJWgq"
      },
      "source": [
        "def lagrange_i(x, i, xm):\n",
        "    n = len(xm)\n",
        "    y = 1 \n",
        "    for j in range(n):\n",
        "        if i != j:\n",
        "            y *= (x - xm[j]) / (xm[i] - xm[j])\n",
        "    return y"
      ],
      "execution_count": null,
      "outputs": []
    },
    {
      "cell_type": "code",
      "metadata": {
        "id": "uj730AI6JWgs"
      },
      "source": [
        "def lagrange(x, xm, ym):\n",
        "    n = len(xm)\n",
        "    lagrpoly = array([ lagrange_i(x ,i , xm ) for i in range(n)])\n",
        "    y = dot(ym, lagrpoly)\n",
        "    \n",
        "    return y"
      ],
      "execution_count": null,
      "outputs": []
    },
    {
      "cell_type": "code",
      "metadata": {
        "id": "pjTZhfauJWgs",
        "outputId": "f0160d61-38c1-4d36-d656-f0d11ab86c51"
      },
      "source": [
        "y2019 = lagrange(2019, x, y)\n",
        "y2019\n"
      ],
      "execution_count": null,
      "outputs": [
        {
          "output_type": "execute_result",
          "data": {
            "text/plain": [
              "19.194140625000003"
            ]
          },
          "metadata": {
            "tags": []
          },
          "execution_count": 12
        }
      ]
    },
    {
      "cell_type": "code",
      "metadata": {
        "id": "_Isub8JHJWgt",
        "outputId": "8bca9a30-d799-47b6-c889-a36fb24ccc62"
      },
      "source": [
        "xx = linspace(2010, 2020, 1000)\n",
        "yy = lagrange(xx, x, y)\n",
        "yy"
      ],
      "execution_count": null,
      "outputs": [
        {
          "output_type": "execute_result",
          "data": {
            "text/plain": [
              "array([14.7       , 14.76711342, 14.83330684, 14.89858771, 14.96296345,\n",
              "       15.02644145, 15.08902904, 15.15073355, 15.21156226, 15.27152243,\n",
              "       15.33062126, 15.38886594, 15.44626362, 15.50282142, 15.55854642,\n",
              "       15.61344568, 15.66752621, 15.72079501, 15.77325901, 15.82492516,\n",
              "       15.87580032, 15.92589137, 15.97520512, 16.02374836, 16.07152786,\n",
              "       16.11855035, 16.16482251, 16.21035101, 16.25514248, 16.29920352,\n",
              "       16.3425407 , 16.38516056, 16.42706959, 16.46827427, 16.50878105,\n",
              "       16.54859632, 16.58772647, 16.62617785, 16.66395676, 16.7010695 ,\n",
              "       16.73752232, 16.77332144, 16.80847304, 16.84298329, 16.87685832,\n",
              "       16.91010423, 16.94272708, 16.97473291, 17.00612773, 17.03691751,\n",
              "       17.06710819, 17.0967057 , 17.12571591, 17.15414467, 17.18199783,\n",
              "       17.20928116, 17.23600042, 17.26216137, 17.28776968, 17.31283105,\n",
              "       17.33735112, 17.36133549, 17.38478975, 17.40771946, 17.43013015,\n",
              "       17.4520273 , 17.47341639, 17.49430285, 17.51469208, 17.53458948,\n",
              "       17.55400038, 17.57293011, 17.59138396, 17.60936719, 17.62688503,\n",
              "       17.64394269, 17.66054535, 17.67669815, 17.6924062 , 17.70767461,\n",
              "       17.72250843, 17.7369127 , 17.75089241, 17.76445255, 17.77759806,\n",
              "       17.79033387, 17.80266487, 17.81459591, 17.82613185, 17.83727747,\n",
              "       17.84803757, 17.8584169 , 17.86842019, 17.87805212, 17.88731737,\n",
              "       17.89622058, 17.90476638, 17.91295933, 17.92080401, 17.92830495,\n",
              "       17.93546666, 17.9422936 , 17.94879025, 17.95496101, 17.96081029,\n",
              "       17.96634246, 17.97156186, 17.97647282, 17.98107961, 17.98538652,\n",
              "       17.98939777, 17.99311758, 17.99655013, 17.99969959, 18.00257008,\n",
              "       18.00516571, 18.00749057, 18.0095487 , 18.01134414, 18.01288089,\n",
              "       18.01416293, 18.0151942 , 18.01597864, 18.01652015, 18.01682259,\n",
              "       18.01688982, 18.01672567, 18.01633392, 18.01571836, 18.01488273,\n",
              "       18.01383075, 18.01256613, 18.01109253, 18.0094136 , 18.00753297,\n",
              "       18.00545424, 18.00318097, 18.00071672, 17.99806501, 17.99522933,\n",
              "       17.99221318, 17.98901999, 17.98565319, 17.98211619, 17.97841235,\n",
              "       17.97454505, 17.9705176 , 17.96633332, 17.96199547, 17.95750733,\n",
              "       17.95287213, 17.94809307, 17.94317335, 17.93811612, 17.93292453,\n",
              "       17.92760169, 17.9221507 , 17.91657462, 17.9108765 , 17.90505937,\n",
              "       17.89912622, 17.89308003, 17.88692376, 17.88066033, 17.87429266,\n",
              "       17.86782363, 17.86125609, 17.8545929 , 17.84783687, 17.84099079,\n",
              "       17.83405744, 17.82703956, 17.81993989, 17.81276112, 17.80550595,\n",
              "       17.79817703, 17.790777  , 17.78330848, 17.77577407, 17.76817633,\n",
              "       17.76051782, 17.75280107, 17.74502859, 17.73720286, 17.72932634,\n",
              "       17.72140149, 17.71343072, 17.70541644, 17.69736102, 17.68926682,\n",
              "       17.68113618, 17.67297141, 17.66477482, 17.65654867, 17.64829522,\n",
              "       17.64001669, 17.63171532, 17.62339327, 17.61505273, 17.60669585,\n",
              "       17.59832474, 17.58994154, 17.58154831, 17.57314714, 17.56474006,\n",
              "       17.55632911, 17.5479163 , 17.53950362, 17.53109303, 17.52268648,\n",
              "       17.5142859 , 17.5058932 , 17.49751027, 17.48913898, 17.48078118,\n",
              "       17.4724387 , 17.46411335, 17.45580693, 17.4475212 , 17.43925793,\n",
              "       17.43101884, 17.42280565, 17.41462006, 17.40646375, 17.39833837,\n",
              "       17.39024557, 17.38218696, 17.37416415, 17.36617873, 17.35823225,\n",
              "       17.35032627, 17.34246232, 17.3346419 , 17.32686651, 17.31913762,\n",
              "       17.31145669, 17.30382515, 17.29624443, 17.28871593, 17.28124103,\n",
              "       17.2738211 , 17.26645749, 17.25915153, 17.25190453, 17.24471778,\n",
              "       17.23759258, 17.23053017, 17.2235318 , 17.2165987 , 17.20973209,\n",
              "       17.20293314, 17.19620303, 17.18954293, 17.18295398, 17.1764373 ,\n",
              "       17.16999399, 17.16362516, 17.15733187, 17.15111518, 17.14497613,\n",
              "       17.13891575, 17.13293505, 17.12703502, 17.12121663, 17.11548085,\n",
              "       17.10982861, 17.10426086, 17.09877849, 17.09338241, 17.08807349,\n",
              "       17.0828526 , 17.07772058, 17.07267828, 17.06772651, 17.06286606,\n",
              "       17.05809773, 17.05342229, 17.04884049, 17.04435308, 17.03996077,\n",
              "       17.03566428, 17.03146431, 17.02736153, 17.02335661, 17.01945021,\n",
              "       17.01564295, 17.01193545, 17.00832833, 17.00482218, 17.00141757,\n",
              "       16.99811507, 16.99491522, 16.99181856, 16.98882561, 16.98593687,\n",
              "       16.98315285, 16.980474  , 16.97790081, 16.97543371, 16.97307315,\n",
              "       16.97081955, 16.96867331, 16.96663483, 16.9647045 , 16.96288267,\n",
              "       16.96116971, 16.95956596, 16.95807173, 16.95668736, 16.95541314,\n",
              "       16.95424935, 16.95319628, 16.95225419, 16.95142332, 16.95070391,\n",
              "       16.95009619, 16.94960036, 16.94921663, 16.94894519, 16.9487862 ,\n",
              "       16.94873982, 16.94880621, 16.94898551, 16.94927783, 16.94968329,\n",
              "       16.95020198, 16.95083401, 16.95157943, 16.95243833, 16.95341074,\n",
              "       16.95449671, 16.95569627, 16.95700944, 16.95843621, 16.9599766 ,\n",
              "       16.96163057, 16.9633981 , 16.96527915, 16.96727367, 16.9693816 ,\n",
              "       16.97160287, 16.97393738, 16.97638504, 16.97894576, 16.9816194 ,\n",
              "       16.98440585, 16.98730496, 16.99031659, 16.99344057, 16.99667675,\n",
              "       17.00002492, 17.00348492, 17.00705652, 17.01073953, 17.01453372,\n",
              "       17.01843886, 17.02245471, 17.02658101, 17.03081751, 17.03516393,\n",
              "       17.03962   , 17.04418541, 17.04885988, 17.0536431 , 17.05853473,\n",
              "       17.06353446, 17.06864195, 17.07385684, 17.07917879, 17.08460742,\n",
              "       17.09014236, 17.09578324, 17.10152965, 17.10738119, 17.11333745,\n",
              "       17.11939802, 17.12556247, 17.13183036, 17.13820124, 17.14467466,\n",
              "       17.15125016, 17.15792727, 17.16470551, 17.1715844 , 17.17856344,\n",
              "       17.18564212, 17.19281994, 17.20009637, 17.2074709 , 17.21494297,\n",
              "       17.22251207, 17.23017762, 17.23793908, 17.24579588, 17.25374745,\n",
              "       17.26179321, 17.26993257, 17.27816493, 17.2864897 , 17.29490626,\n",
              "       17.303414  , 17.31201229, 17.32070052, 17.32947803, 17.33834418,\n",
              "       17.34729834, 17.35633983, 17.36546799, 17.37468216, 17.38398165,\n",
              "       17.39336579, 17.40283389, 17.41238524, 17.42201915, 17.43173491,\n",
              "       17.44153181, 17.45140912, 17.46136612, 17.47140208, 17.48151625,\n",
              "       17.49170791, 17.50197629, 17.51232064, 17.5227402 , 17.53323421,\n",
              "       17.5438019 , 17.55444249, 17.56515519, 17.57593922, 17.58679379,\n",
              "       17.5977181 , 17.60871135, 17.61977273, 17.63090143, 17.64209664,\n",
              "       17.65335753, 17.66468327, 17.67607304, 17.687526  , 17.69904131,\n",
              "       17.71061812, 17.72225559, 17.73395287, 17.7457091 , 17.75752341,\n",
              "       17.76939495, 17.78132284, 17.79330621, 17.80534418, 17.81743588,\n",
              "       17.82958041, 17.84177689, 17.85402444, 17.86632214, 17.87866911,\n",
              "       17.89106445, 17.90350724, 17.91599658, 17.92853156, 17.94111126,\n",
              "       17.95373477, 17.96640116, 17.97910951, 17.99185889, 18.00464838,\n",
              "       18.01747703, 18.03034393, 18.04324812, 18.05618867, 18.06916464,\n",
              "       18.08217507, 18.09521904, 18.10829558, 18.12140374, 18.13454257,\n",
              "       18.14771111, 18.16090841, 18.17413351, 18.18738544, 18.20066324,\n",
              "       18.21396595, 18.22729259, 18.24064221, 18.25401383, 18.26740648,\n",
              "       18.28081919, 18.29425098, 18.30770088, 18.32116791, 18.33465109,\n",
              "       18.34814945, 18.36166201, 18.37518778, 18.38872578, 18.40227504,\n",
              "       18.41583456, 18.42940338, 18.44298049, 18.45656492, 18.47015568,\n",
              "       18.48375179, 18.49735225, 18.5109561 , 18.52456233, 18.53816996,\n",
              "       18.55177801, 18.56538548, 18.5789914 , 18.59259478, 18.60619463,\n",
              "       18.61978996, 18.6333798 , 18.64696315, 18.66053903, 18.67410646,\n",
              "       18.68766445, 18.70121203, 18.7147482 , 18.72827199, 18.74178243,\n",
              "       18.75527852, 18.76875929, 18.78222377, 18.79567098, 18.80909995,\n",
              "       18.82250969, 18.83589925, 18.84926764, 18.8626139 , 18.87593707,\n",
              "       18.88923617, 18.90251025, 18.91575834, 18.92897947, 18.9421727 ,\n",
              "       18.95533706, 18.96847161, 18.98157537, 18.99464742, 19.00768679,\n",
              "       19.02069255, 19.03366375, 19.04659944, 19.0594987 , 19.07236057,\n",
              "       19.08518414, 19.09796847, 19.11071262, 19.12341569, 19.13607674,\n",
              "       19.14869485, 19.16126911, 19.1737986 , 19.18628242, 19.19871966,\n",
              "       19.21110942, 19.22345079, 19.23574287, 19.24798479, 19.26017563,\n",
              "       19.27231453, 19.28440059, 19.29643295, 19.30841071, 19.32033302,\n",
              "       19.33219901, 19.34400781, 19.35575856, 19.36745041, 19.37908252,\n",
              "       19.39065402, 19.40216409, 19.41361189, 19.42499658, 19.43631733,\n",
              "       19.44757332, 19.45876373, 19.46988776, 19.48094458, 19.49193339,\n",
              "       19.5028534 , 19.51370382, 19.52448384, 19.53519269, 19.54582959,\n",
              "       19.55639377, 19.56688445, 19.57730088, 19.58764229, 19.59790794,\n",
              "       19.60809709, 19.61820898, 19.62824288, 19.63819808, 19.64807383,\n",
              "       19.65786944, 19.66758418, 19.67721735, 19.68676826, 19.6962362 ,\n",
              "       19.70562051, 19.71492048, 19.72413547, 19.73326478, 19.74230778,\n",
              "       19.75126379, 19.76013219, 19.76891231, 19.77760355, 19.78620526,\n",
              "       19.79471682, 19.80313764, 19.81146709, 19.81970459, 19.82784954,\n",
              "       19.83590136, 19.84385947, 19.85172331, 19.85949231, 19.86716593,\n",
              "       19.8747436 , 19.88222481, 19.88960901, 19.89689569, 19.90408433,\n",
              "       19.91117442, 19.91816546, 19.92505697, 19.93184846, 19.93853947,\n",
              "       19.94512951, 19.95161814, 19.95800491, 19.96428937, 19.9704711 ,\n",
              "       19.97654968, 19.98252468, 19.9883957 , 19.99416235, 19.99982424,\n",
              "       20.00538099, 20.01083222, 20.01617759, 20.02141673, 20.02654931,\n",
              "       20.031575  , 20.03649346, 20.04130438, 20.04600747, 20.05060242,\n",
              "       20.05508896, 20.0594668 , 20.06373568, 20.06789534, 20.07194554,\n",
              "       20.07588604, 20.07971662, 20.08343705, 20.08704714, 20.09054669,\n",
              "       20.09393552, 20.09721344, 20.10038029, 20.10343593, 20.10638021,\n",
              "       20.10921299, 20.11193416, 20.11454359, 20.11704121, 20.1194269 ,\n",
              "       20.1217006 , 20.12386224, 20.12591176, 20.12784912, 20.12967428,\n",
              "       20.13138723, 20.13298795, 20.13447643, 20.13585271, 20.13711678,\n",
              "       20.13826871, 20.13930852, 20.14023628, 20.14105206, 20.14175595,\n",
              "       20.14234803, 20.14282841, 20.14319722, 20.14345458, 20.14360064,\n",
              "       20.14363555, 20.14355949, 20.14337262, 20.14307515, 20.14266728,\n",
              "       20.14214923, 20.14152123, 20.14078352, 20.13993636, 20.13898002,\n",
              "       20.13791479, 20.13674095, 20.13545882, 20.13406872, 20.13257098,\n",
              "       20.13096596, 20.12925401, 20.12743551, 20.12551085, 20.12348044,\n",
              "       20.12134468, 20.11910401, 20.11675887, 20.11430972, 20.11175703,\n",
              "       20.10910129, 20.106343  , 20.10348266, 20.10052082, 20.09745801,\n",
              "       20.09429478, 20.09103171, 20.08766939, 20.08420841, 20.08064938,\n",
              "       20.07699295, 20.07323975, 20.06939044, 20.06544569, 20.06140619,\n",
              "       20.05727266, 20.05304579, 20.04872634, 20.04431504, 20.03981267,\n",
              "       20.03522   , 20.03053783, 20.02576696, 20.02090823, 20.01596247,\n",
              "       20.01093055, 20.00581333, 20.0006117 , 19.99532658, 19.98995888,\n",
              "       19.98450953, 19.97897949, 19.97336973, 19.96768124, 19.96191501,\n",
              "       19.95607206, 19.95015343, 19.94416017, 19.93809335, 19.93195404,\n",
              "       19.92574335, 19.9194624 , 19.91311231, 19.90669425, 19.90020938,\n",
              "       19.89365888, 19.88704396, 19.88036583, 19.87362574, 19.86682492,\n",
              "       19.85996467, 19.85304626, 19.84607099, 19.8390402 , 19.83195523,\n",
              "       19.82481743, 19.81762817, 19.81038886, 19.80310091, 19.79576574,\n",
              "       19.7883848 , 19.78095956, 19.77349151, 19.76598214, 19.75843298,\n",
              "       19.75084556, 19.74322145, 19.73556222, 19.72786946, 19.72014479,\n",
              "       19.71238984, 19.70460626, 19.69679571, 19.6889599 , 19.68110051,\n",
              "       19.67321929, 19.66531798, 19.65739833, 19.64946214, 19.64151121,\n",
              "       19.63354736, 19.62557242, 19.61758828, 19.60959679, 19.60159987,\n",
              "       19.59359943, 19.58559742, 19.57759579, 19.56959652, 19.56160161,\n",
              "       19.55361309, 19.54563299, 19.53766337, 19.52970631, 19.52176392,\n",
              "       19.51383831, 19.50593162, 19.49804601, 19.49018368, 19.48234681,\n",
              "       19.47453764, 19.4667584 , 19.45901137, 19.45129882, 19.44362307,\n",
              "       19.43598645, 19.42839129, 19.42083998, 19.4133349 , 19.40587847,\n",
              "       19.39847312, 19.39112131, 19.38382551, 19.37658822, 19.36941196,\n",
              "       19.36229927, 19.35525272, 19.34827489, 19.3413684 , 19.33453586,\n",
              "       19.32777993, 19.32110328, 19.31450861, 19.30799864, 19.30157611,\n",
              "       19.29524377, 19.28900442, 19.28286086, 19.27681592, 19.27087245,\n",
              "       19.26503334, 19.25930147, 19.25367977, 19.24817117, 19.24277866,\n",
              "       19.23750522, 19.23235385, 19.2273276 , 19.22242953, 19.21766272,\n",
              "       19.21303027, 19.20853531, 19.204181  , 19.19997051, 19.19590704,\n",
              "       19.19199383, 19.1882341 , 19.18463114, 19.18118824, 19.17790872,\n",
              "       19.17479592, 19.17185321, 19.16908398, 19.16649165, 19.16407966,\n",
              "       19.16185147, 19.15981057, 19.15796047, 19.15630472, 19.15484686,\n",
              "       19.1535905 , 19.15253925, 19.15169673, 19.15106661, 19.15065259,\n",
              "       19.15045836, 19.15048767, 19.15074428, 19.15123198, 19.15195457,\n",
              "       19.1529159 , 19.15411983, 19.15557026, 19.15727108, 19.15922625,\n",
              "       19.16143973, 19.16391551, 19.1666576 , 19.16967006, 19.17295695,\n",
              "       19.17652237, 19.18037044, 19.1845053 , 19.18893113, 19.19365213,\n",
              "       19.19867252, 19.20399657, 19.20962854, 19.21557275, 19.22183353,\n",
              "       19.22841523, 19.23532225, 19.24255899, 19.2501299 , 19.25803944,\n",
              "       19.26629211, 19.27489243, 19.28384494, 19.29315423, 19.30282489,\n",
              "       19.31286155, 19.32326888, 19.33405156, 19.34521429, 19.35676183,\n",
              "       19.36869894, 19.38103041, 19.39376107, 19.40689577, 19.42043939,\n",
              "       19.43439684, 19.44877306, 19.463573  , 19.47880166, 19.49446406,\n",
              "       19.51056525, 19.5271103 , 19.54410433, 19.56155247, 19.57945988,\n",
              "       19.59783175, 19.6166733 , 19.63598978, 19.65578647, 19.67606869,\n",
              "       19.69684175, 19.71811104, 19.73988194, 19.76215988, 19.78495031,\n",
              "       19.80825872, 19.83209061, 19.85645154, 19.88134706, 19.90678278,\n",
              "       19.93276433, 19.95929738, 19.98638761, 20.01404074, 20.04226252,\n",
              "       20.07105874, 20.1004352 , 20.13039774, 20.16095223, 20.19210459,\n",
              "       20.22386073, 20.25622661, 20.28920824, 20.32281164, 20.35704285,\n",
              "       20.39190797, 20.4274131 , 20.4635644 , 20.50036804, 20.53783023,\n",
              "       20.57595721, 20.61475524, 20.65423064, 20.69438973, 20.73523887,\n",
              "       20.77678447, 20.81903295, 20.86199076, 20.9056644 , 20.95006039,\n",
              "       20.99518529, 21.04104567, 21.08764815, 21.13499939, 21.18310606,\n",
              "       21.23197488, 21.28161259, 21.33202598, 21.38322184, 21.43520702,\n",
              "       21.4879884 , 21.54157288, 21.5959674 , 21.65117894, 21.7072145 ,\n",
              "       21.76408111, 21.82178584, 21.88033581, 21.93973814, 22.        ])"
            ]
          },
          "metadata": {
            "tags": []
          },
          "execution_count": 15
        }
      ]
    },
    {
      "cell_type": "code",
      "metadata": {
        "id": "TQJeJAR7JWgt",
        "outputId": "db924f07-35b8-4daf-bf52-d47b151a48f5"
      },
      "source": [
        "plt.plot(xx, yy)\n",
        "plt.plot(x, y, 'ro')\n",
        "plt.plot(2019, y2019, 'go')\n"
      ],
      "execution_count": null,
      "outputs": [
        {
          "output_type": "execute_result",
          "data": {
            "text/plain": [
              "[<matplotlib.lines.Line2D at 0x244d429e948>]"
            ]
          },
          "metadata": {
            "tags": []
          },
          "execution_count": 13
        },
        {
          "output_type": "display_data",
          "data": {
            "image/png": "[encoded data removed]",
            "text/plain": [
              "<Figure size 432x288 with 1 Axes>"
            ]
          },
          "metadata": {
            "tags": [],
            "needs_background": "light"
          }
        }
      ]
    }
  ]
}