{
  "nbformat": 4,
  "nbformat_minor": 0,
  "metadata": {
    "kernelspec": {
      "display_name": "Python 3",
      "language": "python",
      "name": "python3"
    },
    "language_info": {
      "codemirror_mode": {
        "name": "ipython",
        "version": 3
      },
      "file_extension": ".py",
      "mimetype": "text/x-python",
      "name": "python",
      "nbconvert_exporter": "python",
      "pygments_lexer": "ipython3",
      "version": "3.7.4"
    },
    "colab": {
      "name": "ApproximationMethods.ipynb",
      "provenance": [],
      "collapsed_sections": []
    }
  },
  "cells": [
    {
      "cell_type": "markdown",
      "metadata": {
        "id": "lZSGYkESIyJ8"
      },
      "source": [
        "Approximate root of the following equation \n",
        "$$ e^{x^2} - 2 = 0$$"
      ]
    },
    {
      "cell_type": "code",
      "metadata": {
        "id": "UKQHpaFpIyKE"
      },
      "source": [
        "import math"
      ],
      "execution_count": null,
      "outputs": []
    },
    {
      "cell_type": "code",
      "metadata": {
        "id": "Qy_Qf74YIyKJ"
      },
      "source": [
        "def f(x):\n",
        "    return math.exp(x**2) - 2\n",
        "\n",
        "#derivative function\n",
        "def df(x):\n",
        "    return 2 * x * math.exp(x**2)"
      ],
      "execution_count": null,
      "outputs": []
    },
    {
      "cell_type": "markdown",
      "metadata": {
        "id": "pUXnDv5eIyKM"
      },
      "source": [
        "# Secant method\n"
      ]
    },
    {
      "cell_type": "code",
      "metadata": {
        "id": "duFpeDFlIyKN"
      },
      "source": [
        "x0 = 0  #initial guess\n",
        "x1 = 1 # initial guess"
      ],
      "execution_count": null,
      "outputs": []
    },
    {
      "cell_type": "code",
      "metadata": {
        "id": "i3R0sNmxIyKQ"
      },
      "source": [
        "for k in range(2, 8):\n",
        "    x2 = x1 - f(x1) * (x1 - x0) / (f(x1) - f(x0))\n",
        "    x0 = x1\n",
        "    x1 = x2"
      ],
      "execution_count": null,
      "outputs": []
    },
    {
      "cell_type": "code",
      "metadata": {
        "id": "NMZ4LEfwIyKS",
        "outputId": "05a3efb0-59a5-484e-a08c-806bb24bd294"
      },
      "source": [
        "x2 #x7 of Secant method"
      ],
      "execution_count": null,
      "outputs": [
        {
          "output_type": "execute_result",
          "data": {
            "text/plain": [
              "0.8325548615046061"
            ]
          },
          "metadata": {
            "tags": []
          },
          "execution_count": 19
        }
      ]
    },
    {
      "cell_type": "markdown",
      "metadata": {
        "id": "xKRu0HW2IyKU"
      },
      "source": [
        "# Newton's method\n"
      ]
    },
    {
      "cell_type": "code",
      "metadata": {
        "id": "XMpzk2D9IyKV"
      },
      "source": [
        "x0 = 1 #initial guess"
      ],
      "execution_count": null,
      "outputs": []
    },
    {
      "cell_type": "code",
      "metadata": {
        "id": "wBdVTHbtIyKX"
      },
      "source": [
        "for k in range(1, 8):\n",
        "    x0 = x0 - f(x0) / df(x0)"
      ],
      "execution_count": null,
      "outputs": []
    },
    {
      "cell_type": "code",
      "metadata": {
        "id": "Y2kvhpQDIyKY",
        "outputId": "fc4b3e98-e1d7-4540-812d-cff55e006586"
      },
      "source": [
        "x0 # x7 of Newtons method"
      ],
      "execution_count": null,
      "outputs": [
        {
          "output_type": "execute_result",
          "data": {
            "text/plain": [
              "0.8325546111576978"
            ]
          },
          "metadata": {
            "tags": []
          },
          "execution_count": 24
        }
      ]
    }
  ]
}